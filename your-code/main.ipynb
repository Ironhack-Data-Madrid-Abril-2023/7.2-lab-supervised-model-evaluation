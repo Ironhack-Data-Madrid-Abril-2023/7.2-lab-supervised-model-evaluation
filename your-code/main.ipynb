{
 "cells": [
  {
   "attachments": {},
   "cell_type": "markdown",
   "metadata": {},
   "source": [
    "Alexis C"
   ]
  },
  {
   "attachments": {},
   "cell_type": "markdown",
   "metadata": {},
   "source": [
    "# Supervised Learning Model Evaluation Lab\n",
    "\n",
    "Complete the exercises below to solidify your knowledge and understanding of supervised learning model evaluation."
   ]
  },
  {
   "cell_type": "code",
   "execution_count": 1,
   "metadata": {},
   "outputs": [],
   "source": [
    "import pandas as pd"
   ]
  },
  {
   "attachments": {},
   "cell_type": "markdown",
   "metadata": {},
   "source": [
    "## Regression Model Evaluation"
   ]
  },
  {
   "cell_type": "code",
   "execution_count": 2,
   "metadata": {},
   "outputs": [
    {
     "name": "stderr",
     "output_type": "stream",
     "text": [
      "c:\\Users\\alexi\\anaconda3\\lib\\site-packages\\sklearn\\utils\\deprecation.py:87: FutureWarning: Function load_boston is deprecated; `load_boston` is deprecated in 1.0 and will be removed in 1.2.\n",
      "\n",
      "    The Boston housing prices dataset has an ethical problem. You can refer to\n",
      "    the documentation of this function for further details.\n",
      "\n",
      "    The scikit-learn maintainers therefore strongly discourage the use of this\n",
      "    dataset unless the purpose of the code is to study and educate about\n",
      "    ethical issues in data science and machine learning.\n",
      "\n",
      "    In this special case, you can fetch the dataset from the original\n",
      "    source::\n",
      "\n",
      "        import pandas as pd\n",
      "        import numpy as np\n",
      "\n",
      "\n",
      "        data_url = \"http://lib.stat.cmu.edu/datasets/boston\"\n",
      "        raw_df = pd.read_csv(data_url, sep=\"\\s+\", skiprows=22, header=None)\n",
      "        data = np.hstack([raw_df.values[::2, :], raw_df.values[1::2, :2]])\n",
      "        target = raw_df.values[1::2, 2]\n",
      "\n",
      "    Alternative datasets include the California housing dataset (i.e.\n",
      "    :func:`~sklearn.datasets.fetch_california_housing`) and the Ames housing\n",
      "    dataset. You can load the datasets as follows::\n",
      "\n",
      "        from sklearn.datasets import fetch_california_housing\n",
      "        housing = fetch_california_housing()\n",
      "\n",
      "    for the California housing dataset and::\n",
      "\n",
      "        from sklearn.datasets import fetch_openml\n",
      "        housing = fetch_openml(name=\"house_prices\", as_frame=True)\n",
      "\n",
      "    for the Ames housing dataset.\n",
      "    \n",
      "  warnings.warn(msg, category=FutureWarning)\n"
     ]
    }
   ],
   "source": [
    "from sklearn.datasets import load_boston\n",
    "\n",
    "data = load_boston()\n",
    "\n",
    "X = pd.DataFrame(data[\"data\"], columns=data[\"feature_names\"])\n",
    "y = pd.DataFrame(data[\"target\"], columns=['MEDV'])\n",
    "\n",
    "data = pd.concat([X, y], axis=1)"
   ]
  },
  {
   "cell_type": "code",
   "execution_count": 3,
   "metadata": {},
   "outputs": [
    {
     "data": {
      "text/html": [
       "<div>\n",
       "<style scoped>\n",
       "    .dataframe tbody tr th:only-of-type {\n",
       "        vertical-align: middle;\n",
       "    }\n",
       "\n",
       "    .dataframe tbody tr th {\n",
       "        vertical-align: top;\n",
       "    }\n",
       "\n",
       "    .dataframe thead th {\n",
       "        text-align: right;\n",
       "    }\n",
       "</style>\n",
       "<table border=\"1\" class=\"dataframe\">\n",
       "  <thead>\n",
       "    <tr style=\"text-align: right;\">\n",
       "      <th></th>\n",
       "      <th>CRIM</th>\n",
       "      <th>ZN</th>\n",
       "      <th>INDUS</th>\n",
       "      <th>CHAS</th>\n",
       "      <th>NOX</th>\n",
       "      <th>RM</th>\n",
       "      <th>AGE</th>\n",
       "      <th>DIS</th>\n",
       "      <th>RAD</th>\n",
       "      <th>TAX</th>\n",
       "      <th>PTRATIO</th>\n",
       "      <th>B</th>\n",
       "      <th>LSTAT</th>\n",
       "      <th>MEDV</th>\n",
       "    </tr>\n",
       "  </thead>\n",
       "  <tbody>\n",
       "    <tr>\n",
       "      <th>0</th>\n",
       "      <td>0.00632</td>\n",
       "      <td>18.0</td>\n",
       "      <td>2.31</td>\n",
       "      <td>0.0</td>\n",
       "      <td>0.538</td>\n",
       "      <td>6.575</td>\n",
       "      <td>65.2</td>\n",
       "      <td>4.0900</td>\n",
       "      <td>1.0</td>\n",
       "      <td>296.0</td>\n",
       "      <td>15.3</td>\n",
       "      <td>396.90</td>\n",
       "      <td>4.98</td>\n",
       "      <td>24.0</td>\n",
       "    </tr>\n",
       "    <tr>\n",
       "      <th>1</th>\n",
       "      <td>0.02731</td>\n",
       "      <td>0.0</td>\n",
       "      <td>7.07</td>\n",
       "      <td>0.0</td>\n",
       "      <td>0.469</td>\n",
       "      <td>6.421</td>\n",
       "      <td>78.9</td>\n",
       "      <td>4.9671</td>\n",
       "      <td>2.0</td>\n",
       "      <td>242.0</td>\n",
       "      <td>17.8</td>\n",
       "      <td>396.90</td>\n",
       "      <td>9.14</td>\n",
       "      <td>21.6</td>\n",
       "    </tr>\n",
       "    <tr>\n",
       "      <th>2</th>\n",
       "      <td>0.02729</td>\n",
       "      <td>0.0</td>\n",
       "      <td>7.07</td>\n",
       "      <td>0.0</td>\n",
       "      <td>0.469</td>\n",
       "      <td>7.185</td>\n",
       "      <td>61.1</td>\n",
       "      <td>4.9671</td>\n",
       "      <td>2.0</td>\n",
       "      <td>242.0</td>\n",
       "      <td>17.8</td>\n",
       "      <td>392.83</td>\n",
       "      <td>4.03</td>\n",
       "      <td>34.7</td>\n",
       "    </tr>\n",
       "    <tr>\n",
       "      <th>3</th>\n",
       "      <td>0.03237</td>\n",
       "      <td>0.0</td>\n",
       "      <td>2.18</td>\n",
       "      <td>0.0</td>\n",
       "      <td>0.458</td>\n",
       "      <td>6.998</td>\n",
       "      <td>45.8</td>\n",
       "      <td>6.0622</td>\n",
       "      <td>3.0</td>\n",
       "      <td>222.0</td>\n",
       "      <td>18.7</td>\n",
       "      <td>394.63</td>\n",
       "      <td>2.94</td>\n",
       "      <td>33.4</td>\n",
       "    </tr>\n",
       "    <tr>\n",
       "      <th>4</th>\n",
       "      <td>0.06905</td>\n",
       "      <td>0.0</td>\n",
       "      <td>2.18</td>\n",
       "      <td>0.0</td>\n",
       "      <td>0.458</td>\n",
       "      <td>7.147</td>\n",
       "      <td>54.2</td>\n",
       "      <td>6.0622</td>\n",
       "      <td>3.0</td>\n",
       "      <td>222.0</td>\n",
       "      <td>18.7</td>\n",
       "      <td>396.90</td>\n",
       "      <td>5.33</td>\n",
       "      <td>36.2</td>\n",
       "    </tr>\n",
       "  </tbody>\n",
       "</table>\n",
       "</div>"
      ],
      "text/plain": [
       "      CRIM    ZN  INDUS  CHAS    NOX     RM   AGE     DIS  RAD    TAX  \\\n",
       "0  0.00632  18.0   2.31   0.0  0.538  6.575  65.2  4.0900  1.0  296.0   \n",
       "1  0.02731   0.0   7.07   0.0  0.469  6.421  78.9  4.9671  2.0  242.0   \n",
       "2  0.02729   0.0   7.07   0.0  0.469  7.185  61.1  4.9671  2.0  242.0   \n",
       "3  0.03237   0.0   2.18   0.0  0.458  6.998  45.8  6.0622  3.0  222.0   \n",
       "4  0.06905   0.0   2.18   0.0  0.458  7.147  54.2  6.0622  3.0  222.0   \n",
       "\n",
       "   PTRATIO       B  LSTAT  MEDV  \n",
       "0     15.3  396.90   4.98  24.0  \n",
       "1     17.8  396.90   9.14  21.6  \n",
       "2     17.8  392.83   4.03  34.7  \n",
       "3     18.7  394.63   2.94  33.4  \n",
       "4     18.7  396.90   5.33  36.2  "
      ]
     },
     "execution_count": 3,
     "metadata": {},
     "output_type": "execute_result"
    }
   ],
   "source": [
    "data.head()"
   ]
  },
  {
   "attachments": {},
   "cell_type": "markdown",
   "metadata": {},
   "source": [
    "## 1. Split this data set into training (80%) and testing (20%) sets.\n",
    "\n",
    "The `MEDV` field represents the median value of owner-occupied homes (in $1000's) and is the target variable that we will want to predict."
   ]
  },
  {
   "cell_type": "code",
   "execution_count": 5,
   "metadata": {},
   "outputs": [],
   "source": [
    "from sklearn.model_selection import train_test_split\n",
    "\n",
    "X = data.drop('MEDV', axis=1)\n",
    "y = data['MEDV']\n",
    "\n",
    "X_train, X_test, y_train, y_test = train_test_split(X, y, train_size = 0.8, test_size=0.2)"
   ]
  },
  {
   "cell_type": "code",
   "execution_count": 6,
   "metadata": {},
   "outputs": [
    {
     "data": {
      "text/plain": [
       "((404, 13), (102, 13), (404,), (102,))"
      ]
     },
     "execution_count": 6,
     "metadata": {},
     "output_type": "execute_result"
    }
   ],
   "source": [
    "X_train.shape, X_test.shape, y_train.shape, y_test.shape"
   ]
  },
  {
   "attachments": {},
   "cell_type": "markdown",
   "metadata": {},
   "source": [
    "## 2. Train a `LinearRegression` model on this data set and generate predictions on both the training and the testing set."
   ]
  },
  {
   "cell_type": "code",
   "execution_count": 7,
   "metadata": {},
   "outputs": [],
   "source": [
    "from sklearn.linear_model import LinearRegression\n",
    "LinearRegression=LinearRegression()"
   ]
  },
  {
   "cell_type": "code",
   "execution_count": 8,
   "metadata": {},
   "outputs": [
    {
     "data": {
      "text/plain": [
       "LinearRegression()"
      ]
     },
     "execution_count": 8,
     "metadata": {},
     "output_type": "execute_result"
    }
   ],
   "source": [
    "LinearRegression.fit(X_train, y_train)"
   ]
  },
  {
   "cell_type": "code",
   "execution_count": 9,
   "metadata": {},
   "outputs": [
    {
     "data": {
      "text/plain": [
       "array([29.59693685, 26.81035974, 28.12745554, 25.72097742, 22.78614777,\n",
       "        4.10429985, 24.7377772 , 12.4619926 , 36.38330406,  6.6617911 ])"
      ]
     },
     "execution_count": 9,
     "metadata": {},
     "output_type": "execute_result"
    }
   ],
   "source": [
    "LinearRegression.predict(X_test)[:10]"
   ]
  },
  {
   "cell_type": "code",
   "execution_count": 10,
   "metadata": {},
   "outputs": [],
   "source": [
    "y_pred_test = LinearRegression.predict(X_test)\n"
   ]
  },
  {
   "cell_type": "code",
   "execution_count": 11,
   "metadata": {},
   "outputs": [
    {
     "data": {
      "text/plain": [
       "array([29.59693685, 26.81035974, 28.12745554, 25.72097742, 22.78614777,\n",
       "        4.10429985, 24.7377772 , 12.4619926 , 36.38330406,  6.6617911 ,\n",
       "       27.59614328, 38.61853305, 21.29020289,  8.91622291, 34.53634308,\n",
       "       18.7375796 , 26.57225401, 12.4219905 , 19.3276264 , 26.00678455,\n",
       "       20.67219344, 23.29967427, 13.25871968, 25.68029394, 23.74396286,\n",
       "       15.55618288, 27.30189972, 16.61575581, 11.38011553, 18.99120954,\n",
       "       20.41322265,  7.48183911, 20.64327007, 12.32384475, 28.89823208,\n",
       "       22.5111047 , 25.39565202, 35.61853958,  0.11928281, 17.07675099,\n",
       "       24.01282087, 19.5363373 , 34.30455321, 17.04725652, 22.12597469,\n",
       "       24.66541044, 17.94377595, 18.12145945, 21.01836158, 20.50911349,\n",
       "       18.69004635, 24.80721423, 20.18998989, 14.80192038, 37.48033937,\n",
       "       26.65779398, 19.2307032 , 19.2611586 , 30.92673501, 27.52522342,\n",
       "       25.05074518, 12.04618087, 20.447864  , 45.70822329, 25.68909373,\n",
       "       16.3811501 , 20.44904624, 19.25716616, 23.8329134 , 32.50660327,\n",
       "       20.53561186, 22.41753285, 21.48721303, 28.88835551,  7.55078998,\n",
       "       16.18360942, 15.28939525, 26.95826519, 15.74798583, 18.47333755,\n",
       "       19.20460613, 13.26664291, 32.95191763, 32.30695494, 31.12642488,\n",
       "       22.78100835, 20.57077197, 20.10229261, 28.36583255, 17.22824477,\n",
       "       18.34700112, 38.24298763, 28.51886951, 12.91761409, 19.47686527,\n",
       "       37.83507028, 25.67263428, 21.32778794, 33.98648608, 20.38753789,\n",
       "       27.1868426 , 30.68734596])"
      ]
     },
     "execution_count": 11,
     "metadata": {},
     "output_type": "execute_result"
    }
   ],
   "source": [
    "y_pred_test"
   ]
  },
  {
   "cell_type": "code",
   "execution_count": 20,
   "metadata": {},
   "outputs": [
    {
     "data": {
      "text/plain": [
       "array([18.67143205, 17.84870669, 30.53397232, 32.34949909, 17.09269113,\n",
       "       28.62030164, 20.97065172, 23.44960645, 27.04021765, 13.93133122,\n",
       "       18.71940224, 10.76599983, 14.32392698, 22.29591287, 15.35771754,\n",
       "       24.18186356, 15.19150526, 14.26395959, 20.41533904, 11.99849088,\n",
       "       22.72435776, 17.38082859, 12.82866491, 16.62125349, 11.73690223,\n",
       "       19.83048411, 16.3636522 , 16.8468588 , 15.9147571 , 17.0421704 ,\n",
       "       15.80929195, 28.86872769, 17.09941273, 39.23645136,  8.51411104,\n",
       "       24.73967741, 25.32861322, 15.11636361, 25.84034017, 30.91603049,\n",
       "       20.5701869 , 18.73484295, 27.36762293, 43.01810425, 18.52318327,\n",
       "       13.61424528, 13.73421153, 15.39084835, 20.99108933, 23.10851456,\n",
       "       22.83425277, 12.85975867, 21.23122978, 19.1722606 , 23.82703004,\n",
       "       30.59588517, 28.22649956, 23.03814252, 20.31816527, 34.57484128,\n",
       "       35.19609057, 23.67359605, 18.99322263, 19.2225729 , 22.15150092,\n",
       "       36.61557956, 22.1854397 , 23.50267512, 17.63012777, 27.39266995,\n",
       "       15.60542912, 25.39282565, 22.92123266, 17.31513738, 28.65207044,\n",
       "       19.73965763, 30.29472663, 17.87633443,  9.86431288, 21.85669206,\n",
       "       32.85983936, 24.62583364, 30.63820903, 11.23950112, 20.71497513,\n",
       "       21.60168408, 16.6611312 , 28.68574993, 27.41273851, 16.17180999,\n",
       "       22.73951152, 19.76899899, 16.62167501, 23.36667895, 22.61627755,\n",
       "       12.046373  ,  5.55247901, 17.46206042,  2.97028164, 27.01534665,\n",
       "       31.36562438, 40.923498  , 13.63336131, 27.78605061, 40.43160508,\n",
       "       18.06555375, 32.67710327, 13.08300414, 19.24717543, 26.66496346,\n",
       "       16.90286242, 17.39539657, 29.53136437, 24.80378424, 19.75629311,\n",
       "       33.15698163, 27.19605383, 24.75918728, 37.2747887 , 36.97466923,\n",
       "       13.94761658, 27.46943288, 22.16691229,  9.66802593, 13.09317409,\n",
       "       16.65653699, 11.3494929 ,  1.4885783 , 13.44203693, 22.29115764,\n",
       "       22.66045321, 24.03966868, 16.58298066, 20.27826988, 24.97002062,\n",
       "       20.66945991,  5.76734443, 32.5081895 , 22.82198098, 36.23394112,\n",
       "       23.72374882, 22.39095252,  5.70216491, 16.22188735, 17.37069501,\n",
       "       18.81443323, 17.87707836, 37.5273703 , 24.75465495, 19.93922192,\n",
       "       12.89944182, 20.65742631, 14.33270568, 25.53247484, 19.78607004,\n",
       "       31.29954099, 34.39492583, 13.03516389, 16.40903347, 24.09023715,\n",
       "        8.30110922, 15.26340442, 42.39117333, 33.6989061 , 35.75404976,\n",
       "       14.25540157, 16.09607074,  6.00003335, 18.21925016, 34.07529851,\n",
       "       20.35340583, 15.63952208, 16.22128871, 30.5179926 , 19.64344816,\n",
       "       26.56094802, 17.22338329, 34.44881514, 21.50793872, 35.23486468,\n",
       "       19.91385202, 19.56768101, 21.72574773, 25.56542529, 15.90499621,\n",
       "        6.67908238, 17.15440191, 26.55097193, 18.48363052, 11.27153556,\n",
       "       24.5064445 , 11.25965286, 23.38980949, 13.76919366, 21.4393036 ,\n",
       "       20.72489149, 25.22109914, 27.33980865, 22.95950626, 27.77407551,\n",
       "       34.60805289, 14.26678714,  3.72855311, 24.54014047, 20.42872645,\n",
       "       21.30095514, 29.73556282, 19.52362461, 28.11931395, 35.95464917,\n",
       "       20.66389548, 17.72810148, 12.88537102, 35.99200783, 18.76478189,\n",
       "       17.43691115, 14.24468824,  9.92544965, 22.15681291, 31.84794746,\n",
       "       13.27284285, 23.3359794 , 18.38873641, 29.66873774, 23.37709812,\n",
       "       25.76323523, 28.61238555, 26.99136653, 43.56104101, 36.88139585,\n",
       "       23.26752322, 14.67237724, 27.02660187, 14.3264097 , 25.42261166,\n",
       "       14.36056702, 23.72865567, 37.79627345, 37.47610613, 32.49465602,\n",
       "       17.98044247, 25.82436575, 17.64454985, 26.93490734, 32.05661515,\n",
       "        7.48178762, 19.70708451, 29.05301728, 24.3805646 , 20.98098682,\n",
       "        7.88133261, 23.26235495, 23.45436759, 34.14868586, 14.05392872,\n",
       "       18.48376405, 23.87140954, 14.61053288, 20.83257299, 24.66518933,\n",
       "       20.73895548, 15.90133802,  5.71160536, 20.7930872 , 17.38288895,\n",
       "       19.03668659, 20.47164772, 24.40057565, 20.72523046, 21.14661014,\n",
       "       42.9542829 , 16.10090193, 20.97267429, 24.14342881, 15.27490132,\n",
       "       33.15437876, 17.20100981, 34.73031495, 17.3797941 , 24.96086697,\n",
       "       19.88096195, 24.04993904, 24.36665344, 23.71167577, 26.50407404,\n",
       "       27.73480655, 30.25812052, 30.696696  , 19.21722071,  9.09761685,\n",
       "       25.23155502, 30.55954221, 22.54774906, 36.51357263, 23.39430366,\n",
       "       31.45814323, 20.42974648, 33.9562848 , 34.2100819 , 14.24953048,\n",
       "       24.99679605, 16.5463803 , 28.28382759, 26.52025065,  9.99667556,\n",
       "       21.35342641, 29.34727001, 28.07351503, 26.8606773 , 35.03314651,\n",
       "       21.62047258, 23.9520948 , 18.78687531, 23.04374839, 34.92095359,\n",
       "       21.76009854, 21.31713084,  7.94129369, 24.49427705, 17.13621585,\n",
       "       -5.13042207, 19.03586833, 28.15192529, 22.75462627, 20.00323226,\n",
       "       19.76640941, 27.24005501, 33.14381066, 24.26611484, 29.93244157,\n",
       "       18.40481307, 13.45513219, 21.70617995, 21.66443596, 38.48401666,\n",
       "       32.69234846, 39.55969595, 18.0136358 , 28.01223254, 29.14905978,\n",
       "       18.06513086, 25.69630488,  4.93123071, 25.05751916, 31.64070989,\n",
       "       37.17444005, 34.01095171, 16.17792482, 29.01792929,  3.53905831,\n",
       "       23.77255723, 13.28350306, 32.9051756 , 30.13509865, 30.67534678,\n",
       "       23.85147693, 30.78482934, 13.05938404,  8.55154051, 35.58594642,\n",
       "       30.70843944, 20.52021878, 31.63490075, 23.51127276, 29.71342816,\n",
       "       41.91723561, 20.08120668, 13.61202937, 20.54631829, 20.45862126,\n",
       "       20.79635432, 30.72717489, 20.90210159, 23.38881161,  7.68870011,\n",
       "       19.37331091, 40.93929094, 22.7561255 , 24.39769573, 10.29465641,\n",
       "       17.3088083 , 35.71374948, 22.11231056, 40.64771038, 23.64708922,\n",
       "       16.88044065, 25.05630104, 20.19432644, 20.93433028, 32.7587883 ,\n",
       "       22.53785378, 18.77792346, 23.10424184, 19.26542121, 18.5024466 ,\n",
       "       35.03010623, 23.34295596, 33.76371685, 25.35377005, 20.76352658,\n",
       "       32.07088121, 16.86528881, 20.32256867, 22.46923096])"
      ]
     },
     "execution_count": 20,
     "metadata": {},
     "output_type": "execute_result"
    }
   ],
   "source": [
    "y_pred_train = LinearRegression.predict(X_train)\n",
    "y_pred_train"
   ]
  },
  {
   "attachments": {},
   "cell_type": "markdown",
   "metadata": {},
   "source": [
    "## 3. Calculate and print R-squared for both the training and the testing set."
   ]
  },
  {
   "cell_type": "code",
   "execution_count": 13,
   "metadata": {},
   "outputs": [
    {
     "data": {
      "text/plain": [
       "0.6368205245145759"
      ]
     },
     "execution_count": 13,
     "metadata": {},
     "output_type": "execute_result"
    }
   ],
   "source": [
    "from sklearn.metrics import r2_score as r2\n",
    "\n",
    "LinearRegression.score(X_test, y_test)"
   ]
  },
  {
   "cell_type": "code",
   "execution_count": 14,
   "metadata": {},
   "outputs": [
    {
     "data": {
      "text/plain": [
       "0.7612646027882408"
      ]
     },
     "execution_count": 14,
     "metadata": {},
     "output_type": "execute_result"
    }
   ],
   "source": [
    "LinearRegression.score(X_train, y_train)"
   ]
  },
  {
   "attachments": {},
   "cell_type": "markdown",
   "metadata": {},
   "source": [
    "## 4. Calculate and print mean squared error for both the training and the testing set."
   ]
  },
  {
   "cell_type": "code",
   "execution_count": 16,
   "metadata": {},
   "outputs": [
    {
     "data": {
      "text/plain": [
       "28.530519818040993"
      ]
     },
     "execution_count": 16,
     "metadata": {},
     "output_type": "execute_result"
    }
   ],
   "source": [
    "from sklearn.metrics import mean_squared_error\n",
    "mean_squared_error(y_test, y_pred_test)"
   ]
  },
  {
   "cell_type": "code",
   "execution_count": 21,
   "metadata": {},
   "outputs": [
    {
     "data": {
      "text/plain": [
       "20.505767432493148"
      ]
     },
     "execution_count": 21,
     "metadata": {},
     "output_type": "execute_result"
    }
   ],
   "source": [
    "mean_squared_error(y_train, y_pred_train)"
   ]
  },
  {
   "attachments": {},
   "cell_type": "markdown",
   "metadata": {},
   "source": [
    "## 5. Calculate and print mean absolute error for both the training and the testing set."
   ]
  },
  {
   "cell_type": "code",
   "execution_count": 22,
   "metadata": {},
   "outputs": [],
   "source": [
    "from sklearn.metrics import mean_absolute_error"
   ]
  },
  {
   "cell_type": "code",
   "execution_count": 23,
   "metadata": {},
   "outputs": [
    {
     "data": {
      "text/plain": [
       "3.663832506574895"
      ]
     },
     "execution_count": 23,
     "metadata": {},
     "output_type": "execute_result"
    }
   ],
   "source": [
    "mean_absolute_error(y_test, y_pred_test)"
   ]
  },
  {
   "cell_type": "code",
   "execution_count": 24,
   "metadata": {},
   "outputs": [
    {
     "data": {
      "text/plain": [
       "3.255438809467309"
      ]
     },
     "execution_count": 24,
     "metadata": {},
     "output_type": "execute_result"
    }
   ],
   "source": [
    "mean_absolute_error(y_train, y_pred_train)\n"
   ]
  },
  {
   "attachments": {},
   "cell_type": "markdown",
   "metadata": {},
   "source": [
    "## Classification Model Evaluation"
   ]
  },
  {
   "cell_type": "code",
   "execution_count": 25,
   "metadata": {},
   "outputs": [],
   "source": [
    "from sklearn.datasets import load_iris\n",
    "\n",
    "data = load_iris()\n",
    "\n",
    "X = pd.DataFrame(data[\"data\"], columns=data[\"feature_names\"])\n",
    "y = pd.DataFrame(data[\"target\"], columns=[\"class\"])\n",
    "\n",
    "data = pd.concat([X, y], axis=1)"
   ]
  },
  {
   "attachments": {},
   "cell_type": "markdown",
   "metadata": {},
   "source": [
    "## 6. Split this data set into training (80%) and testing (20%) sets.\n",
    "\n",
    "The `class` field represents the type of flower and is the target variable that we will want to predict."
   ]
  },
  {
   "cell_type": "code",
   "execution_count": 26,
   "metadata": {},
   "outputs": [],
   "source": [
    "X_train, X_test, y_train, y_test = tts(X,y, test_size = 0.2, random_state= 1)"
   ]
  },
  {
   "cell_type": "code",
   "execution_count": 27,
   "metadata": {},
   "outputs": [
    {
     "data": {
      "text/plain": [
       "(120, 1)"
      ]
     },
     "execution_count": 27,
     "metadata": {},
     "output_type": "execute_result"
    }
   ],
   "source": [
    "y_train.shape"
   ]
  },
  {
   "attachments": {},
   "cell_type": "markdown",
   "metadata": {},
   "source": [
    "## 7. Train a `LogisticRegression` model on this data set and generate predictions on both the training and the testing set."
   ]
  },
  {
   "cell_type": "code",
   "execution_count": 31,
   "metadata": {},
   "outputs": [
    {
     "data": {
      "text/plain": [
       "(array([0, 1]),\n",
       " array([[9.84711205e-01, 1.52887737e-02, 2.16975655e-08],\n",
       "        [2.76337025e-01, 7.21019068e-01, 2.64390780e-03]]))"
      ]
     },
     "execution_count": 31,
     "metadata": {},
     "output_type": "execute_result"
    }
   ],
   "source": [
    "from sklearn.linear_model import LogisticRegression as LogReg\n",
    "import warnings\n",
    "warnings.filterwarnings(\"ignore\")\n",
    "\n",
    "logreg = LogReg() \n",
    "\n",
    "logreg.fit(X_train, y_train)  # lo entreno\n",
    "\n",
    "y_pred_logreg_train=logreg.predict(X_train) # la prediccion train\n",
    "\n",
    "\n",
    "y_pred_logreg=logreg.predict(X_test) #la predicccion test \n",
    "\n",
    "y_prob=logreg.predict_proba(X_test) \n",
    "\n",
    "y_prob_train=logreg.predict_proba(X_train) \n",
    "\n",
    "\n",
    "y_pred_logreg[:2], y_prob[:2]"
   ]
  },
  {
   "attachments": {},
   "cell_type": "markdown",
   "metadata": {},
   "source": [
    "## 8. Calculate and print the accuracy score for both the training and the testing set."
   ]
  },
  {
   "cell_type": "code",
   "execution_count": 34,
   "metadata": {},
   "outputs": [
    {
     "data": {
      "text/plain": [
       "(0.9666666666666667, 0.9833333333333333)"
      ]
     },
     "execution_count": 34,
     "metadata": {},
     "output_type": "execute_result"
    }
   ],
   "source": [
    "logreg.score(X_test, y_test), logreg.score(X_train, y_train)"
   ]
  },
  {
   "attachments": {},
   "cell_type": "markdown",
   "metadata": {},
   "source": [
    "## 9. Calculate and print the balanced accuracy score for both the training and the testing set."
   ]
  },
  {
   "cell_type": "code",
   "execution_count": 35,
   "metadata": {},
   "outputs": [
    {
     "data": {
      "text/plain": [
       "0.9666666666666667"
      ]
     },
     "execution_count": 35,
     "metadata": {},
     "output_type": "execute_result"
    }
   ],
   "source": [
    "from sklearn.metrics import accuracy_score as acc\n",
    "\n",
    "acc(y_test, y_pred_logreg)"
   ]
  },
  {
   "cell_type": "code",
   "execution_count": 36,
   "metadata": {},
   "outputs": [
    {
     "data": {
      "text/plain": [
       "0.9833333333333333"
      ]
     },
     "execution_count": 36,
     "metadata": {},
     "output_type": "execute_result"
    }
   ],
   "source": [
    "acc(y_train, y_pred_logreg_train)"
   ]
  },
  {
   "attachments": {},
   "cell_type": "markdown",
   "metadata": {},
   "source": [
    "## 10. Calculate and print the precision score for both the training and the testing set."
   ]
  },
  {
   "cell_type": "code",
   "execution_count": 38,
   "metadata": {},
   "outputs": [
    {
     "data": {
      "text/plain": [
       "(0.9840579710144927, 0.9714285714285714)"
      ]
     },
     "execution_count": 38,
     "metadata": {},
     "output_type": "execute_result"
    }
   ],
   "source": [
    "from sklearn.metrics import precision_score as prec\n",
    "\n",
    "prec(y_train, y_pred_logreg_train, average  = 'weighted'), prec(y_test, y_pred_logreg, average  = 'weighted')"
   ]
  },
  {
   "attachments": {},
   "cell_type": "markdown",
   "metadata": {},
   "source": [
    "## 11. Calculate and print the recall score for both the training and the testing set."
   ]
  },
  {
   "cell_type": "code",
   "execution_count": 40,
   "metadata": {},
   "outputs": [
    {
     "data": {
      "text/plain": [
       "(0.9833333333333333, 0.9666666666666667)"
      ]
     },
     "execution_count": 40,
     "metadata": {},
     "output_type": "execute_result"
    }
   ],
   "source": [
    "from sklearn.metrics import recall_score as rec\n",
    "\n",
    "rec(y_train, y_pred_logreg_train, average  = 'weighted') , rec(y_test, y_pred_logreg,average  = 'weighted')"
   ]
  },
  {
   "attachments": {},
   "cell_type": "markdown",
   "metadata": {},
   "source": [
    "## 12. Calculate and print the F1 score for both the training and the testing set."
   ]
  },
  {
   "cell_type": "code",
   "execution_count": 42,
   "metadata": {},
   "outputs": [
    {
     "data": {
      "text/plain": [
       "(0.983287037037037, 0.9672820512820512)"
      ]
     },
     "execution_count": 42,
     "metadata": {},
     "output_type": "execute_result"
    }
   ],
   "source": [
    "from sklearn.metrics import f1_score as f1\n",
    "\n",
    "f1(y_train, y_pred_logreg_train,average  = 'weighted'), f1(y_test, y_pred_logreg,average  = 'weighted')"
   ]
  },
  {
   "attachments": {},
   "cell_type": "markdown",
   "metadata": {},
   "source": [
    "## 13. Generate confusion matrices for both the training and the testing set."
   ]
  },
  {
   "cell_type": "code",
   "execution_count": 46,
   "metadata": {},
   "outputs": [
    {
     "data": {
      "text/plain": [
       "(array([[39,  0,  0],\n",
       "        [ 0, 35,  2],\n",
       "        [ 0,  0, 44]], dtype=int64),\n",
       " array([[11,  0,  0],\n",
       "        [ 0, 12,  1],\n",
       "        [ 0,  0,  6]], dtype=int64))"
      ]
     },
     "execution_count": 46,
     "metadata": {},
     "output_type": "execute_result"
    }
   ],
   "source": [
    "from sklearn.metrics import confusion_matrix as cm\n",
    "\n",
    "cm(y_train, y_pred_logreg_train), cm(y_test, y_pred_logreg)"
   ]
  },
  {
   "cell_type": "code",
   "execution_count": 48,
   "metadata": {},
   "outputs": [],
   "source": [
    "import matplotlib.pyplot as plt\n",
    "%matplotlib inline\n",
    "import seaborn as sns"
   ]
  },
  {
   "cell_type": "code",
   "execution_count": 50,
   "metadata": {},
   "outputs": [
    {
     "data": {
      "image/png": "[encoded data removed]",
      "text/plain": [
       "<Figure size 1500x800 with 2 Axes>"
      ]
     },
     "metadata": {},
     "output_type": "display_data"
    }
   ],
   "source": [
    "plt.figure(figsize=(15, 8))\n",
    "\n",
    "ax=sns.heatmap(cm(y_test, y_pred_logreg)/sum(sum(cm(y_test, y_pred_logreg))), annot=True)\n",
    "\n",
    "plt.title('Matriz confusion')\n",
    "plt.ylabel('Verdad')\n",
    "plt.xlabel('Prediccion')\n",
    "plt.show();"
   ]
  },
  {
   "attachments": {},
   "cell_type": "markdown",
   "metadata": {},
   "source": [
    "## Bonus: For each of the data sets in this lab, try training with some of the other models you have learned about, recalculate the evaluation metrics, and compare to determine which models perform best on each data set."
   ]
  },
  {
   "cell_type": "code",
   "execution_count": null,
   "metadata": {},
   "outputs": [],
   "source": []
  }
 ],
 "metadata": {
  "kernelspec": {
   "display_name": "Python 3 (ipykernel)",
   "language": "python",
   "name": "python3"
  },
  "language_info": {
   "codemirror_mode": {
    "name": "ipython",
    "version": 3
   },
   "file_extension": ".py",
   "mimetype": "text/x-python",
   "name": "python",
   "nbconvert_exporter": "python",
   "pygments_lexer": "ipython3",
   "version": "3.9.13"
  }
 },
 "nbformat": 4,
 "nbformat_minor": 2
}
